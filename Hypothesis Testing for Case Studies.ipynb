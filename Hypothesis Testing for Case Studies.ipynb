{
  "nbformat": 4,
  "nbformat_minor": 0,
  "metadata": {
    "colab": {
      "provenance": [],
      "collapsed_sections": [
        "TzpPhgTcZZCO",
        "EVAhQPyWa-eA",
        "tgzsLTeMne6G",
        "CkZ8NHjwtsM8",
        "-3Oy4Ikeb1_H",
        "fgXOk8VRx_bN"
      ],
      "include_colab_link": true
    },
    "kernelspec": {
      "name": "python3",
      "display_name": "Python 3"
    },
    "language_info": {
      "name": "python"
    }
  },
  "cells": [
    {
      "cell_type": "markdown",
      "metadata": {
        "id": "view-in-github",
        "colab_type": "text"
      },
      "source": [
        "<a href=\"https://colab.research.google.com/github/joshuabdixon/Hypothesis-Testing-for-Case-Studies/blob/main/Hypothesis%20Testing%20for%20Case%20Studies.ipynb\" target=\"_parent\"><img src=\"https://colab.research.google.com/assets/colab-badge.svg\" alt=\"Open In Colab\"/></a>"
      ]
    },
    {
      "cell_type": "markdown",
      "source": [
        "# Hypothesis Testing for Case Studies\n"
      ],
      "metadata": {
        "id": "4AYGiZG61SUq"
      }
    },
    {
      "cell_type": "markdown",
      "source": [
        "# Rationale and Approach\n",
        "\n",
        "> In this assignment, my approach involved applying hypothesis testing to various organisational scenarios to solve business challenges and guide strategic decision-making.\n",
        ">\n",
        ">I began by identifying the problem statement and the objective for each scenario, then selected an appropriate statistical test to evaluate the hypothesis.\n",
        ">\n",
        ">For scenarios involving comparisons between groups, I used tests like the independent two-sample t-test or the one-way ANOVA, while for categorical relationships, I applied the chi-square test. The rationale behind each test selection was based on the type of data and the assumptions that needed to be met, ensuring the results would be valid and reliable.\n",
        ">\n",
        ">By carefully analysing the outcomes, I was able to draw meaningful conclusions and provide actionable recommendations, demonstrating critical thinking and problem-solving skills throughout the process."
      ],
      "metadata": {
        "id": "bbGhz9xPQbRU"
      }
    },
    {
      "cell_type": "markdown",
      "source": [
        "# Scenario 1: Loan Repayment Affordability with Commission\n",
        "\n",
        "- **Problem Statement:** A financial institution needs to determine if an applicant's base salary, supplemented by sales commission, is sufficient to meet loan repayment requirements. The base salary alone may not be enough, so the additional commission is crucial to achieving affordability.\n",
        "- **Objective:** Determine whether the applicant's base salary plus the commission meets the required threshold for loan affordability. This involves testing the impact of fluctuations in commission on the applicant's ability to repay the loan.\n",
        "- **Statistical Test:** One-tailed t-test.\n",
        "- **Reason for Test Selection:** A one-tailed t-test assesses whether a given mean is significantly greater than a specified value, accounting for variability in the data. This test is appropriate to evaluate if the average commission is high enough to supplement the base salary for loan repayment.\n",
        "- **Value to the Organisation:** This analysis helps the financial institution gauge whether the applicant can reliably meet loan repayments without conducting a full affordability test, which leaves a credit footprint. The outcome informs loan approval decisions and mitigates the risk of default due to income fluctuations.\n",
        "\n",
        "\n",
        "## Hypothesis\n",
        "  - $H_0$: The mean commission for a cosmetics salesperson is less than or equal to £500 per month.\n",
        "  - $H_a$: The mean commission for a cosmetics salesperson is greater than £500 per month.\n"
      ],
      "metadata": {
        "id": "TzpPhgTcZZCO"
      }
    },
    {
      "cell_type": "code",
      "source": [
        "import scipy.stats as stats\n",
        "\n",
        "# Sample data for monthly commission for a year (in GBP).\n",
        "monthly_commission = [\n",
        "    480, 520, 540, 490, 510, 525, 515, 505, 500, 480, 515, 530,\n",
        "    520, 530, 540, 525, 550, 460, 570, 490, 545, 535, 540, 545,\n",
        "    550, 555, 560, 565, 470, 575, 580, 485, 590, 595, 500, 505\n",
        "]\n",
        "\n",
        "# Perform a one-tailed t-test.\n",
        "t_statistic, p_value = stats.ttest_1samp(monthly_commission, popmean=500, alternative='greater')\n",
        "\n",
        "# Set the significance level (alpha) at 0.05.\n",
        "alpha = 0.05\n",
        "\n",
        "# Define the null and alternative hypotheses.\n",
        "null_hypothesis = \"The mean commission is less than or equal to £500 per month.\"\n",
        "alternative_hypothesis = \"The mean commission is greater than £500 per month.\"\n",
        "\n",
        "# Print the hypotheses, test results and interpretation.\n",
        "print(\"Null Hypothesis:\", null_hypothesis)\n",
        "print(\"Alternative Hypothesis:\", alternative_hypothesis)\n",
        "print(\"Significance Level (alpha):\", alpha)\n",
        "print(\"T-Statistic:\", t_statistic)\n",
        "print(\"P-Value:\", p_value)\n",
        "\n",
        "if p_value < alpha:\n",
        "    print(\"Reject the null hypothesis.\")\n",
        "else:\n",
        "    print(\"Fail to reject the null hypothesis.\")\n"
      ],
      "metadata": {
        "id": "hmxUFYnXAtGc",
        "colab": {
          "base_uri": "https://localhost:8080/"
        },
        "outputId": "cfb04146-a97b-49c3-bd74-2eb4a8bf58dc"
      },
      "execution_count": null,
      "outputs": [
        {
          "output_type": "stream",
          "name": "stdout",
          "text": [
            "Null Hypothesis: The mean commission is less than or equal to £500 per month.\n",
            "Alternative Hypothesis: The mean commission is greater than £500 per month.\n",
            "Significance Level (alpha): 0.05\n",
            "T-Statistic: 4.825292252995393\n",
            "P-Value: 1.3582107426823953e-05\n",
            "Reject the null hypothesis.\n"
          ]
        }
      ]
    },
    {
      "cell_type": "markdown",
      "source": [
        "### Reporting results\n",
        "\n",
        "The initial suitability test performed on your average commission for last year, along with potential future earnings from commission, shows that you are likely to be accepted for a loan after the full affordability tests are completed. As a reminder, the full credit check will leave a record on your credit file. Would you like to proceed with the application?"
      ],
      "metadata": {
        "id": "DoOyJ3Jm8-zS"
      }
    },
    {
      "cell_type": "markdown",
      "source": [
        "# Scenario 2: Product price comparison\n",
        "\n",
        "- **Problem statement:** A retail company wants to determine whether there is a significant difference in the average price of a product between two different stores (Store A – the business; and Store B – the competitor).\n",
        "- **Objective:** Test whether the average price of the product differs significantly between Store A and Store B.\n",
        "- **Statistical test:** Independent two-sample t-test.\n",
        "- **Reason for test selection:** An independent two-sample t-test is used to assess whether there is a significant difference between the means of two independent groups (prices, Store A and Store B). The assumptions for a t-test (independent in this case) are met, including normality and homoscedasticity.\n",
        "- **Value to the organisation:** This information can influence pricing strategies and competitive analysis, leading to informed decisions about product pricing and placement."
      ],
      "metadata": {
        "id": "EVAhQPyWa-eA"
      }
    },
    {
      "cell_type": "markdown",
      "source": [
        "> ## Hypothesis\n",
        "  - $H_0$: There is no significant difference in average product price between Store A and Store B.\n",
        "  - $H_a$: There is a significant difference in average product price between Store A and Store B."
      ],
      "metadata": {
        "id": "3y0-gbUTor3G"
      }
    },
    {
      "cell_type": "code",
      "source": [
        "# Import the necessary library.\n",
        "import scipy.stats as stats\n",
        "\n",
        "# Sample data for prices at Store A and Store B.\n",
        "store_A_prices = [50, 55, 60, 45, 48, 52, 57, 59, 53, 50, 58, 54, 51, 56, 55]\n",
        "store_B_prices = [55, 52, 58, 54, 50, 56, 53, 59, 55, 57, 60, 58, 53, 55, 57]\n",
        "\n",
        "# Perform the independent two-sample t-test.\n",
        "t_statistic, p_value = stats.ttest_ind(store_A_prices, store_B_prices)\n",
        "\n",
        "# Set the significance level (alpha) at 0.05.\n",
        "alpha = 0.05\n",
        "\n",
        "# Define the null and alternative hypotheses.\n",
        "null_hypothesis = \"There is no significant difference in average product price between Store A and Store B\"\n",
        "alternative_hypothesis = \"There is a significant difference in average product price between Store A and Store B\"\n",
        "\n",
        "# Print the hypotheses, test results, and interpretation.\n",
        "print(\"Null Hypothesis:\", null_hypothesis)\n",
        "print(\"Alternative Hypothesis:\", alternative_hypothesis)\n",
        "print(\"Significance Level (alpha):\", alpha)\n",
        "print(\"T-Statistic:\", t_statistic)\n",
        "print(\"P-Value:\", p_value)\n",
        "\n",
        "if p_value < alpha:\n",
        "    print(\"Reject the null hypothesis.\")\n",
        "else:\n",
        "    print(\"Fail to reject the null hypothesis.\")\n"
      ],
      "metadata": {
        "id": "-kawWQUVa1BR",
        "outputId": "903fb6fe-8b20-41d7-ed40-eeb974adc61f",
        "colab": {
          "base_uri": "https://localhost:8080/"
        }
      },
      "execution_count": null,
      "outputs": [
        {
          "output_type": "stream",
          "name": "stdout",
          "text": [
            "Null Hypothesis: There is no significant difference in average product price between Store A and Store B\n",
            "Alternative Hypothesis: There is a significant difference in average product price between Store A and Store B\n",
            "Significance Level (alpha): 0.05\n",
            "T-Statistic: -1.4777027242467613\n",
            "P-Value: 0.15064852874704232\n",
            "Fail to reject the null hypothesis.\n"
          ]
        }
      ]
    },
    {
      "cell_type": "markdown",
      "source": [
        "### Reporting results\n",
        "After comparing the prices from Store A and Store B, we did not find a significant difference. This suggests that, based on the data we have, the prices are generally similar between the two stores.\n",
        "\n",
        "To gain a clearer understanding, we suggest collecting more price data from both stores to see if there's any real difference.\n",
        "\n",
        "If further analysis confirms that there's no significant difference, we might be able to optimise pricing strategies to make your prices more competitive compared to Store B. This could involve finding the optimal price to maximise revenue while remaining competitive.\n",
        "\n",
        "Would you like us to continue with a more detailed analysis?"
      ],
      "metadata": {
        "id": "txtht85QD0Zq"
      }
    },
    {
      "cell_type": "markdown",
      "source": [
        "# Scenario 3: Employee productivity\n",
        "\n",
        "- **Problem statement:** The HR department of a company wants to determine whether there is a significant difference in the average productivity levels of employees across three different departments (sales, marketing, and finance).\n",
        "- **Objective:** Test whether the average productivity levels vary significantly across the three departments.\n",
        "- **Statistical test:** One-way ANOVA to determine if there is a significant difference in average productivity levels across three different departments: sales, marketing, and finance.\n",
        "- **Reason for test selection:** One-way ANOVA compares the means of productivity levels across more than two groups (departments). ANOVA determines whether there is a significant difference in means, which is important for identifying which department(s) may require specific attention or improvements (independent in this case) are met, including normality and homoscedasticity.\n",
        "- **Value to the organisation:** Identifying which department might need targeted improvements should lead to better resource allocation and increased efficiency.\n",
        "\n"
      ],
      "metadata": {
        "id": "tgzsLTeMne6G"
      }
    },
    {
      "cell_type": "markdown",
      "source": [
        "> ## Hypothesis\n",
        "- $H_0$: There is no significant difference in the average productivity levels across the sales, marketing, and finance departments.\n",
        "- $H_a$: At least one department has a significantly different average productivity level compared to the others."
      ],
      "metadata": {
        "id": "Tw0yUGbvbzi4"
      }
    },
    {
      "cell_type": "code",
      "source": [
        "import scipy.stats as stats\n",
        "\n",
        "# Sample data for productivity in three departments.\n",
        "sales_productivity = [100, 110, 105, 120, 115, 108, 112, 107, 118, 103, 105, 115, 110]\n",
        "marketing_productivity = [90, 95, 88, 92, 85, 87, 93, 89, 94, 91, 86, 92, 91]\n",
        "finance_productivity = [80, 75, 82, 78, 85, 86, 81, 79, 83, 87, 84, 79, 82]\n",
        "\n",
        "# Perform one-way ANOVA.\n",
        "f_statistic, p_value = stats.f_oneway(sales_productivity, marketing_productivity, finance_productivity)\n",
        "\n",
        "# Set the significance level (alpha) at 0.05.\n",
        "alpha = 0.05\n",
        "\n",
        "# Define the null and alternative hypotheses.\n",
        "null_hypothesis = \"There is no significant difference in the average productivity levels across the sales, marketing, and finance departments.\"\n",
        "alternative_hypothesis = \"At least one department has a significantly different average productivity level compared to the others.\"\n",
        "\n",
        "# Print the hypotheses, test results, and interpretation.\n",
        "print(\"Null Hypothesis:\", null_hypothesis)\n",
        "print(\"Alternative Hypothesis:\", alternative_hypothesis)\n",
        "print(\"Significance Level (alpha):\", alpha)\n",
        "print(\"F-Statistic:\", f_statistic)\n",
        "print(\"P-Value:\", p_value)\n",
        "\n",
        "if p_value < alpha:\n",
        "    print(\"Reject the null hypothesis.\")\n",
        "else:\n",
        "    print(\"Fail to reject the null hypothesis.\")\n"
      ],
      "metadata": {
        "id": "oqmaWfu27G3Z",
        "colab": {
          "base_uri": "https://localhost:8080/"
        },
        "outputId": "8c0be808-bf43-4154-90d0-7fff7b682f35"
      },
      "execution_count": null,
      "outputs": [
        {
          "output_type": "stream",
          "name": "stdout",
          "text": [
            "Null Hypothesis: There is no significant difference in the average productivity levels across the sales, marketing, and finance departments.\n",
            "Alternative Hypothesis: At least one department has a significantly different average productivity level compared to the others.\n",
            "Significance Level (alpha): 0.05\n",
            "F-Statistic: 142.9988771614636\n",
            "P-Value: 7.448929132713286e-18\n",
            "Reject the null hypothesis.\n"
          ]
        }
      ]
    },
    {
      "cell_type": "markdown",
      "source": [
        "### Reporting results\n",
        "> After comparing the productivity levels across the sales, marketing, and finance departments, we found evidence of a significant difference. This indicates that at least one department has a notably different average productivity level compared to the others.\n",
        ">\n",
        ">Given this finding, we recommend conducting further analysis to identify which specific departments need targeted improvements. Understanding these differences can help you make informed decisions about resource allocation and potentially improve overall efficiency.\n",
        ">\n",
        ">Would you like us to proceed with more detailed analysis?\n"
      ],
      "metadata": {
        "id": "f6lC_2tUbq_y"
      }
    },
    {
      "cell_type": "markdown",
      "source": [
        "# Scenario 4: Market research\n",
        "\n",
        "- **Problem statement:** A marketing research firm is investigating whether there is a relationship between customers’ age groups (18–25, 26–35, and 36–45) and their preferred social media platforms (Facebook, Twitter, and Instagram).\n",
        "- **Objective:** Test whether the age group and the choice of social media platform are independent of each other.\n",
        "- **Statistical test:** Chi-square test for independence.\n",
        "- **Reason for test selection:** The chi-square test for independence is suitable for categorical data (age groups and social media platforms) and to determine whether the variables are independent or related. This test assesses whether there is an association between the two variables without the need for specific assumptions about data distribution.\n",
        "- **Value to the organisation:** Identifying whether age groups and preferred social media platforms are independent or related is valuable for targeted marketing campaigns tailored to specific age groups and platforms."
      ],
      "metadata": {
        "id": "CkZ8NHjwtsM8"
      }
    },
    {
      "cell_type": "markdown",
      "source": [
        "> ## Hypothesis\n",
        "- $H_0$: No significant relationship exists between age groups and preferred social media platform.\n",
        "- $H_a$: At least one age group has a statistically significant association with at least one social media platform."
      ],
      "metadata": {
        "id": "Ejfuy-Qab1Gx"
      }
    },
    {
      "cell_type": "code",
      "source": [
        "import scipy.stats as stats\n",
        "import pandas as pd\n",
        "\n",
        "# Sample data as a Pandas DataFrame.\n",
        "data = pd.DataFrame({\n",
        "    'Age Group': ['18-25', '26-35', '36-45', '18-25', '26-35'],\n",
        "    'Social Media Platform': ['Facebook', 'Twitter', 'Instagram', 'Instagram', 'Facebook']\n",
        "})\n",
        "\n",
        "# Create a contingency table.\n",
        "contingency_table = pd.crosstab(data['Age Group'], data['Social Media Platform'])\n",
        "\n",
        "# Perform chi-square test for independence.\n",
        "chi2, p, _, _ = stats.chi2_contingency(contingency_table)\n",
        "\n",
        "# Set the significance level (alpha) at 0.05.\n",
        "alpha = 0.05\n",
        "\n",
        "# Define the null and alternative hypotheses.\n",
        "null_hypothesis = \"No significant relationship exists between age groups and social media platforms.\"\n",
        "alternative_hypothesis = \"At least one age group has a statistically significant association with at least one social media platform.\"\n",
        "\n",
        "# Print the hypotheses, test results, and interpretation.\n",
        "print(\"Null Hypothesis:\", null_hypothesis)\n",
        "print(\"Alternative Hypothesis:\", alternative_hypothesis)\n",
        "print(\"Significance Level (alpha):\", alpha)\n",
        "print(\"Chi-Square Statistic:\", chi2)\n",
        "print(\"P-Value:\", p)\n",
        "\n",
        "if p < alpha:\n",
        "    print(\"Reject the null hypothesis.\")\n",
        "else:\n",
        "    print(\"Fail to reject the null hypothesis.\")\n"
      ],
      "metadata": {
        "id": "MMJWrW_wGsL4",
        "colab": {
          "base_uri": "https://localhost:8080/"
        },
        "outputId": "2adcd022-11bd-41f1-c306-94c6fdc45acc"
      },
      "execution_count": null,
      "outputs": [
        {
          "output_type": "stream",
          "name": "stdout",
          "text": [
            "Null Hypothesis: No significant relationship exists between age groups and social media platforms.\n",
            "Alternative Hypothesis: At least one age group has a statistically significant association with at least one social media platform.\n",
            "Significance Level (alpha): 0.05\n",
            "Chi-Square Statistic: 3.75\n",
            "P-Value: 0.44089552967916945\n",
            "Fail to reject the null hypothesis.\n"
          ]
        }
      ]
    },
    {
      "cell_type": "markdown",
      "source": [
        "### Reporting results\n",
        "> Our analysis suggests there is no clear link between age groups and the choice of social media platforms, as any observed differences could be due to random chance.\n",
        ">\n",
        ">To dive deeper, we recommend gathering more data, looking at other factors like gender or location, and exploring potential connections between age and other characteristics. This approach can help identify if age plays a role in social media preferences.\n"
      ],
      "metadata": {
        "id": "mqBeowSxcBoB"
      }
    },
    {
      "cell_type": "markdown",
      "source": [
        "# Scenario 5: Product quality control\n",
        "\n",
        "- **Problem statement:** A manufacturing company is evaluating whether there is a significant difference in product quality (measured as 'defective' or 'non-defective') among three production lines (Line A, Line B, Line C).\n",
        "- **Objective:** Test whether the proportion of defective products differs across the three production lines.\n",
        "- **Statistical test:** Chi-square test for proportions.\n",
        "- **Reason for test selection:** This scenario involves comparing proportions (defective versus non-defective) among production lines, making the chi-square test for proportions appropriate. It will test whether the proportion of defective products significantly differs among the production lines, regardless of data distribution.\n",
        "- **Value to the organisation:** Identifying variations in product quality aids quality control and process improvement within the manufacturing process."
      ],
      "metadata": {
        "id": "3PPHNTs5wmEM"
      }
    },
    {
      "cell_type": "markdown",
      "source": [
        "> ## Hypothesis\n",
        "- $H_0$: No significant difference in product quality among the three production lines.\n",
        "- $H_a$: At least one production line has a statistically significant difference in product quality compared to the others."
      ],
      "metadata": {
        "id": "-3Oy4Ikeb1_H"
      }
    },
    {
      "cell_type": "code",
      "source": [
        "import scipy.stats as stats\n",
        "\n",
        "# Sample data for three production lines.\n",
        "line_A_defective = 20\n",
        "line_A_non_defective = 180\n",
        "line_B_defective = 30\n",
        "line_B_non_defective = 170\n",
        "line_C_defective = 10\n",
        "line_C_non_defective = 190\n",
        "\n",
        "# Create a 2x3 contingency table.\n",
        "contingency_table = [[line_A_defective, line_B_defective, line_C_defective],\n",
        "                     [line_A_non_defective, line_B_non_defective, line_C_non_defective]]\n",
        "\n",
        "# Perform chi-square test for proportions.\n",
        "chi2, p, _, _ = stats.chi2_contingency(contingency_table)\n",
        "\n",
        "# Set the significance level (alpha) at 0.05.\n",
        "alpha = 0.05\n",
        "\n",
        "# Define the null and alternative hypotheses.\n",
        "null_hypothesis = \"No significant difference in product quality among the three production lines.\"\n",
        "alternative_hypothesis = \"At least one production line has a statistically significant difference in product quality compared to the others.\"\n",
        "\n",
        "# Print the hypotheses, test results, and interpretation.\n",
        "print(\"Null Hypothesis:\", null_hypothesis)\n",
        "print(\"Alternative Hypothesis:\", alternative_hypothesis)\n",
        "print(\"Significance Level (alpha):\", alpha)\n",
        "print(\"Chi-Square Statistic:\", chi2)\n",
        "print(\"P-Value:\", p)\n",
        "\n",
        "if p < alpha:\n",
        "    print(\"Reject the null hypothesis.\")\n",
        "else:\n",
        "    print(\"Fail to reject the null hypothesis.\")\n"
      ],
      "metadata": {
        "id": "-wS7AVayH0yi",
        "colab": {
          "base_uri": "https://localhost:8080/"
        },
        "outputId": "3a4d0476-6f0a-45c5-f0df-66cf89737c32"
      },
      "execution_count": null,
      "outputs": [
        {
          "output_type": "stream",
          "name": "stdout",
          "text": [
            "Null Hypothesis: No significant difference in product quality among the three production lines.\n",
            "Alternative Hypothesis: At least one production line has a statistically significant difference in product quality compared to the others.\n",
            "Significance Level (alpha): 0.05\n",
            "Chi-Square Statistic: 11.11111111111111\n",
            "P-Value: 0.0038659201394728067\n",
            "Reject the null hypothesis.\n"
          ]
        }
      ]
    },
    {
      "cell_type": "markdown",
      "source": [
        "### Reporting results\n",
        "Our analysis shows that there is likely a difference in product quality among the three production lines. This means that at least one of the lines might be producing more defective products than the others.\n",
        "\n",
        "Given this, we suggest conducting additional tests to find out which production lines might need quality improvements or process adjustments.\n",
        "\n",
        "Would you like us to continue with a more detailed investigation to pinpoint the source of the quality variation?"
      ],
      "metadata": {
        "id": "U4cr0qLhcD95"
      }
    },
    {
      "cell_type": "markdown",
      "source": [
        "# Scenario 6:  Determining product lines\n",
        "\n",
        "- **Problem statement:** An online bookstore wants to determine which books to add to its product line. It needs to determine whether to spend the budget on fiction or non-fiction books, based on which category will likely generate the most revenue.\n",
        "- **Objective:** Test which category of books will generate the most revenue.\n",
        "- **Statistical test:** Independent two-sample t-test.\n",
        "- **Reason for test selection:** An independent two-sample t-test is used to asses whether there is a significant difference between the means of two independent groups (revenue, fiction, non-fiction). The assumptions for a t-test (independent in this case) are met, including normality and homoscedasticity.\n",
        "- **Value to the organisation:** This information can influence decision on which books are best placed on the product the line, leading to informed decisions that generate the most revenue."
      ],
      "metadata": {
        "id": "fgXOk8VRx_bN"
      }
    },
    {
      "cell_type": "markdown",
      "source": [
        "> ## Hypothesis\n",
        "  - $H_0$: There is no significant difference in revenue generated from fiction and non-fiction books.\n",
        "  - $H_a$: There is a significant difference in revenue generated from fiction and non-fiction books."
      ],
      "metadata": {
        "id": "SaGcwb09b2z2"
      }
    },
    {
      "cell_type": "code",
      "source": [
        "# Import relevant libraries.\n",
        "import scipy.stats as stats\n",
        "\n",
        "# Sample data for revenue of fiction and non-fiction books.\n",
        "fiction_revenue = [500, 550, 600, 520, 480, 530, 560,\n",
        "                   540, 570, 590, 545, 525, 510, 525,\n",
        "                   515, 550, 570, 580, 535, 520, 510,\n",
        "                   540, 560, 575, 590]\n",
        "non_fiction_revenue = [600, 620, 580, 590, 610, 630,\n",
        "                       595, 605, 615, 625, 635, 590,\n",
        "                       625, 630, 640, 610, 620, 600,\n",
        "                       615, 630, 625, 635, 610, 590, 580]\n",
        "\n",
        "# Perform the independent two-sample t-test.\n",
        "t_statistic, p_value = stats.ttest_ind(fiction_revenue, non_fiction_revenue)\n",
        "\n",
        "# Set the significance level (alpha) at 0.05.\n",
        "alpha = 0.05\n",
        "\n",
        "# Define the null and alternative hypotheses.\n",
        "null_hypothesis = \"There is no significant difference in revenue generated from fiction and non-fiction books.\"\n",
        "alternative_hypothesis = \"At least one production line has a statistically significant difference in product quality compared to the others.\"\n",
        "\n",
        "# Print the hypotheses, test results, and interpretation.\n",
        "print(\"Null Hypothesis:\", null_hypothesis)\n",
        "print(\"Alternative Hypothesis:\", alternative_hypothesis)\n",
        "print(\"Significance Level (alpha):\", alpha)\n",
        "print(\"T-Statistic:\", t_statistic)\n",
        "print(\"P-Value:\", p_value)\n",
        "\n",
        "if p_value < alpha:\n",
        "    print(\"Reject the null hypothesis.\")\n",
        "else:\n",
        "    print(\"Fail to reject the null hypothesis.\")\n"
      ],
      "metadata": {
        "id": "mgtRHgJ6x_bO",
        "colab": {
          "base_uri": "https://localhost:8080/"
        },
        "outputId": "051a1005-839d-47ea-9ed8-b176e034765d"
      },
      "execution_count": null,
      "outputs": [
        {
          "output_type": "stream",
          "name": "stdout",
          "text": [
            "Null Hypothesis: There is no significant difference in revenue generated from fiction and non-fiction books.\n",
            "Alternative Hypothesis: At least one production line has a statistically significant difference in product quality compared to the others.\n",
            "Significance Level (alpha): 0.05\n",
            "T-Statistic: -9.616927427940514\n",
            "P-Value: 8.955388322211702e-13\n",
            "Reject the null hypothesis.\n"
          ]
        }
      ]
    },
    {
      "cell_type": "markdown",
      "source": [
        "### Reporting results\n",
        "> Our  analysis suggests that non-fiction books generally generate more revenue than fiction books, based on the sample data.\n",
        ">\n",
        "> Given this result, the bookstore should consider focusing its budget on the book category with higher revenue potential.\n",
        ">\n",
        "> Further analysis could help understand why one category is more profitable and guide future product line decisions."
      ],
      "metadata": {
        "id": "SsrFGUfJcFvQ"
      }
    }
  ]
}